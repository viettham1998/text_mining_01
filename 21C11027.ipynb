{
  "nbformat": 4,
  "nbformat_minor": 0,
  "metadata": {
    "colab": {
      "provenance": []
    },
    "kernelspec": {
      "name": "python3",
      "display_name": "Python 3"
    },
    "language_info": {
      "name": "python"
    }
  },
  "cells": [
    {
      "cell_type": "markdown",
      "source": [
        "**KHAI THÁC NGỮ LIỆU VĂN BẢN NÂNG CAO**\n",
        "\n",
        "*   **Họ và tên:** Huỳnh Viết Thám\n",
        "*   **Mã số học viên:** 21C11027"
      ],
      "metadata": {
        "id": "cBpYENt3SKRD"
      }
    },
    {
      "cell_type": "markdown",
      "source": [
        "# Cài đặt thư viện cần thiết"
      ],
      "metadata": {
        "id": "OhdDf2OOSE2Y"
      }
    },
    {
      "cell_type": "code",
      "execution_count": 1,
      "metadata": {
        "colab": {
          "base_uri": "https://localhost:8080/"
        },
        "id": "oRfd8etNyP7s",
        "outputId": "e6ebf604-b617-47eb-9528-abd75528b84e"
      },
      "outputs": [
        {
          "output_type": "stream",
          "name": "stdout",
          "text": [
            "Looking in indexes: https://pypi.org/simple, https://us-python.pkg.dev/colab-wheels/public/simple/\n",
            "Requirement already satisfied: beautifulsoup4 in /usr/local/lib/python3.7/dist-packages (4.6.3)\n",
            "Looking in indexes: https://pypi.org/simple, https://us-python.pkg.dev/colab-wheels/public/simple/\n",
            "Requirement already satisfied: google in /usr/local/lib/python3.7/dist-packages (2.0.3)\n",
            "Requirement already satisfied: beautifulsoup4 in /usr/local/lib/python3.7/dist-packages (from google) (4.6.3)\n",
            "Looking in indexes: https://pypi.org/simple, https://us-python.pkg.dev/colab-wheels/public/simple/\n",
            "Collecting google-search-results\n",
            "  Downloading google_search_results-2.4.1.tar.gz (11 kB)\n",
            "Requirement already satisfied: requests in /usr/local/lib/python3.7/dist-packages (from google-search-results) (2.23.0)\n",
            "Requirement already satisfied: chardet<4,>=3.0.2 in /usr/local/lib/python3.7/dist-packages (from requests->google-search-results) (3.0.4)\n",
            "Requirement already satisfied: certifi>=2017.4.17 in /usr/local/lib/python3.7/dist-packages (from requests->google-search-results) (2022.6.15)\n",
            "Requirement already satisfied: idna<3,>=2.5 in /usr/local/lib/python3.7/dist-packages (from requests->google-search-results) (2.10)\n",
            "Requirement already satisfied: urllib3!=1.25.0,!=1.25.1,<1.26,>=1.21.1 in /usr/local/lib/python3.7/dist-packages (from requests->google-search-results) (1.24.3)\n",
            "Building wheels for collected packages: google-search-results\n",
            "  Building wheel for google-search-results (setup.py) ... \u001b[?25l\u001b[?25hdone\n",
            "  Created wheel for google-search-results: filename=google_search_results-2.4.1-py3-none-any.whl size=25789 sha256=4641c5176942d06842c87f65786754d650b05c128d69d1c1810c44f9ea46cd1b\n",
            "  Stored in directory: /root/.cache/pip/wheels/82/a3/c5/364155118f298722dff2f79ae4dd7c91e92b433ad36d6f7e0e\n",
            "Successfully built google-search-results\n",
            "Installing collected packages: google-search-results\n",
            "Successfully installed google-search-results-2.4.1\n"
          ]
        }
      ],
      "source": [
        "!pip install beautifulsoup4\n",
        "!pip install google\n",
        "!pip install google-search-results"
      ]
    },
    {
      "cell_type": "markdown",
      "source": [
        "## Nhập từ khoá tìm kiếm"
      ],
      "metadata": {
        "id": "yG18v_7C7WLn"
      }
    },
    {
      "cell_type": "code",
      "source": [
        "publication_name = input(\"Please input the keyword for searching: \")"
      ],
      "metadata": {
        "id": "a1cV1gMPWmCj",
        "colab": {
          "base_uri": "https://localhost:8080/"
        },
        "outputId": "cf801d6a-c74c-4584-8e5d-457e8ef5772a"
      },
      "execution_count": 2,
      "outputs": [
        {
          "name": "stdout",
          "output_type": "stream",
          "text": [
            "Please input the keyword for searching: COVID-Net Open Source Initiative\n"
          ]
        }
      ]
    },
    {
      "cell_type": "markdown",
      "source": [
        "## Hàm xử lý"
      ],
      "metadata": {
        "id": "bsEI8EEn7ciP"
      }
    },
    {
      "cell_type": "code",
      "source": [
        "from serpapi import GoogleSearch\n",
        "# Khai báo hàm\n",
        "def checkPaper(publication_name):\n",
        "  # Các thông số theo API từ google search\n",
        "  params = {\n",
        "    \"api_key\": \"3fb62919a0e61a6a58cf9815798253799210ab69fbc3c9c9a81785c7cabcc3fa\",\n",
        "    \"engine\": \"google\",\n",
        "    \"q\": \"*\",\n",
        "    \"location\": \"Austin, Texas, United States\",\n",
        "    \"google_domain\": \"google.com\",\n",
        "    \"gl\": \"us\",\n",
        "    \"hl\": \"en\",\n",
        "    \"as_sitesearch\": \"github.com\"\n",
        "  }\n",
        "\n",
        "  # q ở đây là query. Ở bước này, tiến hành gán input mà người dùng nhập vào vào trong param đã khởi tạo ở trên\n",
        "  params[\"q\"] = publication_name\n",
        "  # Ở bước này, tiến hành search bằng thư viện GoogleSearch đã import ở trên, với tham số là param sau khi đã cập nhập câu query q \n",
        "  search = GoogleSearch(params)\n",
        "  # Tiến hành lưu kết quả tìm được vào results, để từ đó có thể dễ dàng truy xuất khi cần thiết\n",
        "  results = search.get_dict()\n",
        "  # Lấy top 5 kết quả search ra đầu tiên dưới dạng json \n",
        "  top5_result=results[\"organic_results\"][0:5]\n",
        "  # Bây giờ sẽ tạo 2 biến, biến thứ nhất là github_link, biến này sẽ kiểm tra xem là kết quả tìm được trong top5 đó có link github hay không? nếu có thì sẽ lưu thông tin vào backup_link\n",
        "  github_link = False\n",
        "  backup_link = None\n",
        "  # Tổng số từ khoá trong việc tìm kiếm nếu trên 70% thì sẽ cho ra kết quả.\n",
        "  # Số 70% ở đây là một con số có thể thay đổi được, chưa có thống kê cụ thể sử dụng số nào thì hiệu quả cao hơn\n",
        "  threshold = 0.7\n",
        "  #Chạy vòng for để tìm kiếm link github trong top5 đã lấy ở trên\n",
        "  for result in top5_result:\n",
        "    # Tách các từ trong tên bài báo nhập vào ở trên. Mục tiêu là để ở bước so sánh mình sẽ lấy từng từ ra dò vào kết quả cho nhanh chóng\n",
        "    word_list = publication_name.split(' ')\n",
        "    len_word_list = len(word_list)\n",
        "    count = 0\n",
        "    # Trong các kết quả trả về, nếu không có link github thì bỏ qua, còn nếu có link github thì sẽ tiến hành kiểm tra xem từng từ được tách ở trên so với từ trong link git trùng khớp được bao nhiêu phần trăm. Trên 70% như đã khai báo ở trên là được.\n",
        "    if \"https://github.com/\" in result['link']:\n",
        "      for word in word_list:\n",
        "        if word in result['snippet']:\n",
        "         count+=1\n",
        "      if count >= count/len_word_list:\n",
        "        github_link = True\n",
        "        backup_link = result['link']\n",
        "        break\n",
        "  # Kiểm tra xem biến check link git đã là true hay chưa, nếu là true thì là có link, còn không thì không có link\n",
        "  if github_link == False:\n",
        "    return \"Currently, the github link for the entered article title has not been found. Please check back later!\"\n",
        "  else:\n",
        "    return backup_link + \" | Here is the link github found based on your input. Please check the link above.\""
      ],
      "metadata": {
        "id": "yr7wXt1XPibl"
      },
      "execution_count": 13,
      "outputs": []
    },
    {
      "cell_type": "code",
      "source": [
        "checkPaper(publication_name)"
      ],
      "metadata": {
        "colab": {
          "base_uri": "https://localhost:8080/",
          "height": 53
        },
        "id": "d3IkyF2-1ZiN",
        "outputId": "4dd62666-4bbe-453f-ded4-a1c1152859b4"
      },
      "execution_count": 14,
      "outputs": [
        {
          "output_type": "stream",
          "name": "stdout",
          "text": [
            "https://serpapi.com/search\n"
          ]
        },
        {
          "output_type": "execute_result",
          "data": {
            "text/plain": [
              "'https://github.com/lindawangg/COVID-Net | Here is the link github found based on your input. Please check the link above.'"
            ],
            "application/vnd.google.colaboratory.intrinsic+json": {
              "type": "string"
            }
          },
          "metadata": {},
          "execution_count": 14
        }
      ]
    },
    {
      "cell_type": "markdown",
      "source": [
        "## Nguồn tài liệu tham khảo"
      ],
      "metadata": {
        "id": "kMCSXLWd74Lr"
      }
    },
    {
      "cell_type": "markdown",
      "source": [
        "\n",
        "\n",
        "1.   https://serpapi.com/\n",
        "2.   https://pypi.org/project/beautifulsoup4/\n",
        "3.   https://pypi.org/project/google-search-results/\n",
        "\n"
      ],
      "metadata": {
        "id": "4VWNUVRi78_C"
      }
    }
  ]
}